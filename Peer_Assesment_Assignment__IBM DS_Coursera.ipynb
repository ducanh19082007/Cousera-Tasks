{
  "metadata": {
    "kernelspec": {
      "name": "python",
      "display_name": "Python (Pyodide)",
      "language": "python"
    },
    "language_info": {
      "codemirror_mode": {
        "name": "python",
        "version": 3
      },
      "file_extension": ".py",
      "mimetype": "text/x-python",
      "name": "python",
      "nbconvert_exporter": "python",
      "pygments_lexer": "ipython3",
      "version": "3.8"
    }
  },
  "nbformat_minor": 5,
  "nbformat": 4,
  "cells": [
    {
      "id": "9d38eaa1-040a-4245-a6ea-3b9a819f3639",
      "cell_type": "markdown",
      "source": "# Peer-Assesment Assignment by Duc Anh on Cousera's Tools for Data Science Module 6",
      "metadata": {}
    },
    {
      "id": "cf8fb513-171f-46db-b841-92397eaa38e8",
      "cell_type": "markdown",
      "source": "# Introduction of the Assignment",
      "metadata": {}
    },
    {
      "id": "bd948d61-5d17-4c5b-805c-fdbf91511c74",
      "cell_type": "markdown",
      "source": " - this is a description part of the introduction which i would write down some random stuffs to give this a bit of professionalism :))",
      "metadata": {}
    },
    {
      "id": "13e38f49-9dec-432e-a4c0-0a1fb11dc11e",
      "cell_type": "markdown",
      "source": "# Python Languages",
      "metadata": {}
    },
    {
      "id": "4f17d345-eb79-4407-aff1-151bfd69a864",
      "cell_type": "markdown",
      "source": "- Python - widely used for DS\n- R - for statistical computing and visualizations\n- SQL - querying and managing visualizations\n- Julia - numerical computing\n- Scala (with Apache Spark)",
      "metadata": {}
    },
    {
      "id": "918bfbb5-c716-4210-9bf3-6a702724a125",
      "cell_type": "markdown",
      "source": "# Data Science Libraries\n",
      "metadata": {}
    },
    {
      "id": "92d02296-7444-4698-a6d5-16768ab6ec30",
      "cell_type": "markdown",
      "source": "- For Data Manipulation and Analysis\n  + Pandas\n  + Numpy\n  + Polars\n- Data Visualizations\n  + Matploylib\n  + Seaborn\n  + Plotly\n  + Bokeh\n- Machine Learning\n  + Scikit-learn\n  + TensorFlow\n  + PyTorch\n- Statistics and Probabilities\n  + Statistics\n  + Statsmodels",
      "metadata": {}
    },
    {
      "id": "15e3a82a-b075-4612-874d-0b53fc7c2e0f",
      "cell_type": "markdown",
      "source": "# Data Science Tools",
      "metadata": {}
    },
    {
      "id": "43009d2c-7555-4ff0-baa7-5713cb52508c",
      "cell_type": "markdown",
      "source": "- Data Analysis and Maniputlation\n  + Jupyter Notebook\n  + Google Colaboratory\n  + RStudio\n- Data Visualization\n  + Tableau\n  + Matplotlib, Seaborn, Plotly\n- Machine Learning\n  + Scikit-learn\n  + TensorFlow\n  + PyTorch\n- Big Data\n  + Hadoop\n  + Apache Sparj\n- Databases and Storage\n  + MySQL\n  + MongoDB\n",
      "metadata": {}
    },
    {
      "id": "69925428-c536-432b-968a-d2061bb66a21",
      "cell_type": "markdown",
      "source": "# arithmetic expression examples",
      "metadata": {}
    },
    {
      "id": "bc9e443d-bfb5-4f1f-8ced-1ac23160a8e5",
      "cell_type": "markdown",
      "source": "An introduction on Python/Universal expression examples",
      "metadata": {}
    },
    {
      "id": "e57b8ede-6647-487e-bd09-fd53d78ba2e7",
      "cell_type": "code",
      "source": "5+ 6",
      "metadata": {
        "trusted": true
      },
      "outputs": [
        {
          "execution_count": 2,
          "output_type": "execute_result",
          "data": {
            "text/plain": "11"
          },
          "metadata": {}
        }
      ],
      "execution_count": 2
    },
    {
      "id": "d7418e98-8708-4400-bb1e-2cd8f906179d",
      "cell_type": "code",
      "source": "5*6",
      "metadata": {
        "trusted": true
      },
      "outputs": [
        {
          "execution_count": 4,
          "output_type": "execute_result",
          "data": {
            "text/plain": "30"
          },
          "metadata": {}
        }
      ],
      "execution_count": 4
    },
    {
      "id": "f09dc1d5-d438-4e9b-b775-f90b2740f1fc",
      "cell_type": "code",
      "source": "5-6",
      "metadata": {
        "trusted": true
      },
      "outputs": [
        {
          "execution_count": 3,
          "output_type": "execute_result",
          "data": {
            "text/plain": "-1"
          },
          "metadata": {}
        }
      ],
      "execution_count": 3
    },
    {
      "id": "2c116d4d-c90f-4b34-a615-580130707e82",
      "cell_type": "code",
      "source": "5/6",
      "metadata": {
        "trusted": true
      },
      "outputs": [
        {
          "execution_count": 5,
          "output_type": "execute_result",
          "data": {
            "text/plain": "0.8333333333333334"
          },
          "metadata": {}
        }
      ],
      "execution_count": 5
    },
    {
      "id": "64247c6f-b872-4a54-8cb3-24d0dc1b0094",
      "cell_type": "code",
      "source": "19//6",
      "metadata": {
        "trusted": true
      },
      "outputs": [
        {
          "execution_count": 8,
          "output_type": "execute_result",
          "data": {
            "text/plain": "3"
          },
          "metadata": {}
        }
      ],
      "execution_count": 8
    },
    {
      "id": "7c27aca4-945c-45e4-a216-f7844a11a6ea",
      "cell_type": "code",
      "source": "19%6",
      "metadata": {
        "trusted": true
      },
      "outputs": [
        {
          "execution_count": 9,
          "output_type": "execute_result",
          "data": {
            "text/plain": "1"
          },
          "metadata": {}
        }
      ],
      "execution_count": 9
    },
    {
      "id": "1df5d251-27b6-47f4-a4ad-c66fc7827e28",
      "cell_type": "code",
      "source": "5**6",
      "metadata": {
        "trusted": true
      },
      "outputs": [
        {
          "execution_count": 10,
          "output_type": "execute_result",
          "data": {
            "text/plain": "15625"
          },
          "metadata": {}
        }
      ],
      "execution_count": 10
    },
    {
      "id": "01c3e02b-32e9-42c1-957d-0a440b0b1d55",
      "cell_type": "markdown",
      "source": "# Convert minutes to Hours",
      "metadata": {}
    },
    {
      "id": "89de8ff4-8891-490d-9082-b25c49972148",
      "cell_type": "code",
      "source": "Minutes = 120\nMinutes/60",
      "metadata": {
        "trusted": true
      },
      "outputs": [
        {
          "execution_count": 13,
          "output_type": "execute_result",
          "data": {
            "text/plain": "2.0"
          },
          "metadata": {}
        }
      ],
      "execution_count": 13
    },
    {
      "id": "507a07b8-6da3-4c90-b8a8-fccfd3afc6a4",
      "cell_type": "markdown",
      "source": "# Objectives",
      "metadata": {}
    },
    {
      "id": "c79e30a4-e56b-4ab0-b2b1-150b2fae0b08",
      "cell_type": "markdown",
      "source": "- To re-evaluate all of the tools from libraries, Languges, and some DEIs that specifically and usually support for the job in Data Science Industry\n- Give simple arithmetic expressions\n- Introduction to certain languages like R, Python, SQL\n- Learn how a Databases is constructed\n- Learn about github, Git, Watson Ai",
      "metadata": {}
    },
    {
      "id": "86390788-3429-4988-a2bd-4d06734e2fb7",
      "cell_type": "markdown",
      "source": "# Author'S Name",
      "metadata": {}
    },
    {
      "id": "aff236ee-9d98-4584-9d2c-497a39e69df3",
      "cell_type": "markdown",
      "source": " - Le Duc Anh",
      "metadata": {}
    },
    {
      "id": "99100519-9e6c-423c-8d3f-be177acbb21c",
      "cell_type": "code",
      "source": "",
      "metadata": {
        "trusted": true
      },
      "outputs": [],
      "execution_count": null
    }
  ]
}